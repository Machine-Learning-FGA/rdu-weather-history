{
 "cells": [
  {
   "cell_type": "markdown",
   "metadata": {},
   "source": [
    "# Elastic Net Regressor\n",
    "\n",
    "Elastic Net Regressor é um modelo de regressão linear que utiliza o Lasso e Ridge regressors como regularizadores de features, tanto o por meio da norma L1 (Lasso) como a L2 (Ridge).\n",
    "\n",
    "Tal combinação permite juntarmos os pontos fortes tanto do Lasso quanto do Ridge, onde no Lasso seria a parte de _feature selection_ e o Ridge o ponto forte se dá por ser um bom modelo para lidar com multicolinearidade entre variáveis - o que costuma ser comúm em problemas de regressão, onde as variáveis independentes possuem relações lineares exatas ou aproximadamente exatas com a variável alvo.\n",
    "\n",
    "## Normas L1 e L2\n",
    "\n",
    "Em geral, normalizadores são artifícios matemáticos utilizados para mapear valores de um vetor entre [0,∞). Em _machine learning_, esses normalizadores são responsáveis por expressar distâncias entre pontos ou vetores: este ponto está a tão perto ou tão longe deste outro ponto, de acordo com essa norma.\n",
    "\n",
    "Na geometria, existem diversos tipos de cálculos matemáticos desenvolvidos para o cálculo de distância entre pontos num dado espaço dimensional, mas, como estamos nos referindo aos normalizadores L1 e L2, nos referimos diretamente à dois desses cálculos: Distância Euclidiana (Ridge ou L2) e a Métrica Taxicab (Lasso ou L1).\n",
    "\n",
    "A utilização desses normalizadores dentro de um cálculo matemático de \"custo\" ou valor, é o que chamamos de regularização."
   ]
  },
  {
   "cell_type": "markdown",
   "metadata": {},
   "source": [
    "## Processamento dos dados"
   ]
  },
  {
   "cell_type": "code",
   "execution_count": 1,
   "metadata": {},
   "outputs": [],
   "source": [
    "import pandas as pd\n",
    "\n",
    "# As colunas estão separadas pelo símbolo ';' #. \n",
    "weather_history = pd.read_csv('rdu-weather-history.csv', sep=';')\n",
    "\n",
    "\n",
    "# Substituindo as string por números binários -- No = 0.0 e Yes = 1.0\n",
    "weather_history = weather_history.replace('No', 0.0)\n",
    "weather_history = weather_history.replace('Yes', 1.0)\n",
    "\n",
    "from sklearn.preprocessing import Imputer\n",
    "import numpy as np\n",
    "\n",
    "null_values = ['temperaturemin', 'temperaturemax', 'precipitation', 'snowfall', 'snowdepth', 'avgwindspeed',\n",
    "             'fastest2minwinddir', 'fastest2minwindspeed', 'fastest5secwinddir', 'fastest5secwindspeed'\n",
    "            ]\n",
    "#Substituindo os valores nulos pela média dos valores referentes a feature\n",
    "imputer = Imputer(missing_values=np.nan, strategy='median', axis=0)\n",
    "for i in null_values:\n",
    "    weather_history[[i]]= imputer.fit_transform(weather_history[[i]])"
   ]
  },
  {
   "cell_type": "markdown",
   "metadata": {},
   "source": [
    "## Separação por _season_"
   ]
  },
  {
   "cell_type": "code",
   "execution_count": 2,
   "metadata": {},
   "outputs": [],
   "source": [
    "weather_history['date'] = weather_history['date'].replace({'-':''}, regex=True)\n",
    "season_array = np.zeros(4137)\n",
    "meantemp_array = np.zeros(4137)\n",
    "\n",
    "for i in range(0, 4137):\n",
    "    #formato: MMDD\n",
    "    monthDay = int(weather_history['date'][i][4:8])\n",
    "    \n",
    "    if monthDay >= 1201 or monthDay < 301:\n",
    "        season = 0 #'winter'\n",
    "    elif monthDay >= 301 and monthDay < 601:\n",
    "        season = 1 #'spring'\n",
    "    elif monthDay >= 601 and monthDay < 901:\n",
    "        season = 2 #'summer'\n",
    "    elif monthDay >= 901 and monthDay < 1201:\n",
    "        season = 3 #'autumn'    \n",
    "    \n",
    "    season_array[i] = season\n",
    "\n",
    "weather_history['season'] = season_array\n",
    "winter_weather_history = weather_history[weather_history['season'] == 0]\n",
    "summer_weather_history = weather_history[weather_history['season'] == 1]\n",
    "spring_weather_history = weather_history[weather_history['season'] == 2]\n",
    "autumn_weather_history = weather_history[weather_history['season'] == 3]"
   ]
  },
  {
   "cell_type": "code",
   "execution_count": 3,
   "metadata": {},
   "outputs": [],
   "source": [
    "from sklearn.model_selection import train_test_split\n",
    "def compute(regressor, dataset, hasSeason = False):\n",
    "    X = dataset.drop('temperaturemin', axis=1)\n",
    "    X = X.drop('date', axis=1)\n",
    "    if 'season' in dataset:\n",
    "        X = X.drop('season', axis=1)\n",
    "    y = dataset['temperaturemin'].values\n",
    "    X_train, X_test, y_train, y_test = train_test_split(X, y, test_size=0.25, random_state=42)\n",
    "    regressor.fit(X_train, y_train)\n",
    "    print(\"\\nTraining set score: {:.3f}\".format(regressor.score(X_train, y_train)))\n",
    "    print(\"Test set score: {:.3f}\".format(regressor.score(X_test, y_test)))\n",
    "    print(\"Number of used features: {}\\n\".format(np.sum(regressor.coef_ != 0)))"
   ]
  },
  {
   "cell_type": "markdown",
   "metadata": {},
   "source": [
    "### Utilizando o Modelo Elastic Net"
   ]
  },
  {
   "cell_type": "code",
   "execution_count": 13,
   "metadata": {},
   "outputs": [
    {
     "name": "stdout",
     "output_type": "stream",
     "text": [
      "Winter separadamente:\n",
      "\n",
      "Training set score: 0.714\n",
      "Test set score: 0.680\n",
      "Number of used features: 13\n",
      "\n",
      "Summer separadamente:\n",
      "\n",
      "Training set score: 0.725\n",
      "Test set score: 0.698\n",
      "Number of used features: 12\n",
      "\n",
      "Spring separadamente:\n",
      "\n",
      "Training set score: 0.419\n",
      "Test set score: 0.299\n",
      "Number of used features: 11\n",
      "\n",
      "Autumn separadamente:\n",
      "\n",
      "Training set score: 0.790\n",
      "Test set score: 0.788\n",
      "Number of used features: 14\n",
      "\n",
      "Dataset em conjunto:\n",
      "\n",
      "Training set score: 0.863\n",
      "Test set score: 0.865\n",
      "Number of used features: 12\n",
      "\n"
     ]
    }
   ],
   "source": [
    "from sklearn.linear_model import ElasticNet\n",
    "# for i in np.linspace(0, 1, 11):\n",
    "regr = ElasticNet(random_state=0, alpha=0.2, l1_ratio=0.5)\n",
    "print(\"Winter separadamente:\")\n",
    "compute(regr, winter_weather_history)\n",
    "print(\"Summer separadamente:\")\n",
    "compute(regr, summer_weather_history)\n",
    "print(\"Spring separadamente:\")\n",
    "compute(regr, spring_weather_history)\n",
    "print(\"Autumn separadamente:\")\n",
    "compute(regr, autumn_weather_history)\n",
    "print(\"Dataset em conjunto:\")\n",
    "compute(regr, weather_history)"
   ]
  },
  {
   "cell_type": "markdown",
   "metadata": {},
   "source": [
    "# Métricas do Modelo"
   ]
  },
  {
   "cell_type": "code",
   "execution_count": 5,
   "metadata": {},
   "outputs": [
    {
     "name": "stdout",
     "output_type": "stream",
     "text": [
      "MAE: 4.932\n",
      "Training RMSE: 6.175\n",
      "Test RMSE: 6.101\n"
     ]
    }
   ],
   "source": [
    "from sklearn.metrics import mean_absolute_error\n",
    "\n",
    "X = weather_history.drop('temperaturemin', axis=1)\n",
    "X = X.drop('date', axis=1)\n",
    "y = weather_history['temperaturemin'].values\n",
    "X_train, X_test, y_train, y_test = train_test_split(X, y, test_size=0.25, random_state=42)\n",
    "\n",
    "regr.fit(X_train, y_train)\n",
    "\n",
    "test_prediction = regr.predict(X_test)\n",
    "train_prediction = regr.predict(X_train)\n",
    "\n",
    "print(\"MAE: {:.3f}\".format(mean_absolute_error(y_test, test_prediction)))\n",
    "from sklearn.metrics import mean_squared_error\n",
    "train_RMSE = np.sqrt(mean_squared_error(y_train, train_prediction))\n",
    "test_RMSE = np.sqrt(mean_squared_error(y_test, test_prediction))\n",
    "print('Training RMSE: {:.3f}'.format(train_RMSE))\n",
    "print('Test RMSE: {:.3f}'.format(test_RMSE))"
   ]
  },
  {
   "cell_type": "markdown",
   "metadata": {},
   "source": [
    "# Referências\n",
    "\n",
    "https://en.wikipedia.org/wiki/Taxicab_geometry\n",
    "\n",
    "http://www.sthda.com/english/articles/37-model-selection-essentials-in-r/153-penalized-regression-essentials-ridge-lasso-elastic-net/\n",
    "\n",
    "https://www.kaggle.com/residentmario/l1-norms-versus-l2-norms\n",
    "\n",
    "http://www.chioka.in/differences-between-l1-and-l2-as-loss-function-and-regularization/"
   ]
  }
 ],
 "metadata": {
  "kernelspec": {
   "display_name": "Python 3",
   "language": "python",
   "name": "python3"
  },
  "language_info": {
   "codemirror_mode": {
    "name": "ipython",
    "version": 3
   },
   "file_extension": ".py",
   "mimetype": "text/x-python",
   "name": "python",
   "nbconvert_exporter": "python",
   "pygments_lexer": "ipython3",
   "version": "3.6.5"
  }
 },
 "nbformat": 4,
 "nbformat_minor": 2
}
