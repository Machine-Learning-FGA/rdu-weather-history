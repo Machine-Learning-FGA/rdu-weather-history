{
 "cells": [
  {
   "cell_type": "markdown",
   "metadata": {},
   "source": [
    "# Índice\n",
    "1. [Introdução](#introduction)\n",
    "2. [Pré-processamento dos dados](#pre-processing)"
   ]
  },
  {
   "cell_type": "markdown",
   "metadata": {},
   "source": [
    "## 1. Introdução <a name=\"introduction\"></a>\n",
    "<p>Este <i>notebook</i> contém a utilização do algoritmo de regressão conhecido como [SGDRegressor](http://scikit-learn.org/stable/modules/generated/sklearn.linear_model.SGDRegressor.html) - Gradiente Descendente Estocástico ou do inglês <i>Stochastic Gradient Descent.</i></p>"
   ]
  },
  {
   "cell_type": "code",
   "execution_count": 168,
   "metadata": {},
   "outputs": [],
   "source": [
    "# Imports\n",
    "import pandas as pd\n",
    "import numpy as np\n",
    "import seaborn as sns; sns.set() \n",
    "import matplotlib.pyplot as plt\n",
    "from sklearn.preprocessing import Imputer"
   ]
  },
  {
   "cell_type": "markdown",
   "metadata": {},
   "source": [
    "## 2. Pré-processamento dos dados <a name=\"pre-processing\"></a>\n",
    "<p>Todo o passo-a-passo do pré-processamento dos dados pode ser encontrado no arquivo <i>rdu-weather-history.ipynb</i>, sendo que aqui o processo será bastante semelhante, porém de maneira reduzida e com modificações para adequar melhor à situação.</p>"
   ]
  },
  {
   "cell_type": "code",
   "execution_count": 160,
   "metadata": {},
   "outputs": [
    {
     "data": {
      "text/plain": [
       "(4137, 28)"
      ]
     },
     "execution_count": 160,
     "metadata": {},
     "output_type": "execute_result"
    }
   ],
   "source": [
    "weather_history = pd.read_csv('rdu-weather-history.csv', parse_dates=['date'], sep=';')\n",
    "weather_history.shape"
   ]
  },
  {
   "cell_type": "markdown",
   "metadata": {},
   "source": [
    "Substituindo as string por números binários:\n",
    "* No = 0.0\n",
    "* Yes = 1.0"
   ]
  },
  {
   "cell_type": "code",
   "execution_count": 161,
   "metadata": {},
   "outputs": [],
   "source": [
    "weather_history = weather_history.replace('No', 0.0)\n",
    "weather_history = weather_history.replace('Yes', 1.0)"
   ]
  },
  {
   "cell_type": "markdown",
   "metadata": {},
   "source": [
    "<p>Esse é um caso em que o pré-processamento diverge do arquivo de pré-processamento. Isso aconteceu porque a abordagem utilizando esse modelo é diferente, não dividindo o dataset por estação do ano, e sim utilizando ele todo, mas substituindo a <i>feature season</i> por <i>dummies</i>. Essa escolha foi feita devido ao <i>SGDRegressor </i> ser mais indicado para datasets grandes, passando de 10000 linhas, por isso é mais interessante aplicá-lo em um de 4000 linhas do que em 4 de aproximadamente 1000 linhas.</p>"
   ]
  },
  {
   "cell_type": "markdown",
   "metadata": {},
   "source": [
    "Substituindo os valores nulos pela média dos valores referentes a feature"
   ]
  },
  {
   "cell_type": "code",
   "execution_count": 162,
   "metadata": {},
   "outputs": [],
   "source": [
    "imputer = Imputer(missing_values=np.nan, strategy='median', axis=0)\n",
    "weather_history[['temperaturemin']] = imputer.fit_transform(weather_history[['temperaturemin']])\n",
    "weather_history[['temperaturemax']] = imputer.fit_transform(weather_history[['temperaturemax']])\n",
    "weather_history[['precipitation']] = imputer.fit_transform(weather_history[['precipitation']])\n",
    "weather_history[['snowfall']] = imputer.fit_transform(weather_history[['snowfall']])\n",
    "weather_history[['snowdepth']] = imputer.fit_transform(weather_history[['snowdepth']])\n",
    "weather_history[['avgwindspeed']] = imputer.fit_transform(weather_history[['avgwindspeed']])\n",
    "weather_history[['fastest2minwinddir']] = imputer.fit_transform(weather_history[['fastest2minwinddir']])\n",
    "weather_history[['fastest2minwindspeed']] = imputer.fit_transform(weather_history[['fastest2minwindspeed']])\n",
    "weather_history[['fastest5secwinddir']] = imputer.fit_transform(weather_history[['fastest5secwinddir']])\n",
    "weather_history[['fastest5secwindspeed']] = imputer.fit_transform(weather_history[['fastest5secwindspeed']])"
   ]
  },
  {
   "cell_type": "markdown",
   "metadata": {},
   "source": [
    "Criando coluna season a partir da data"
   ]
  },
  {
   "cell_type": "code",
   "execution_count": 163,
   "metadata": {},
   "outputs": [],
   "source": [
    "season_array = []\n",
    "for date in weather_history['date']:\n",
    "    if int(date.strftime('%m%d')) >= 1221 or int(date.strftime('%m%d')) <= 319:\n",
    "        season = 'winter'\n",
    "    elif int(date.strftime('%m%d')) >= 320 and int(date.strftime('%m%d')) <= 620:\n",
    "        season = 'spring'\n",
    "    elif int(date.strftime('%m%d')) >= 621 and int(date.strftime('%m%d')) <= 921:\n",
    "        season = 'summer'\n",
    "    elif int(date.strftime('%m%d')) >= 922 and int(date.strftime('%m%d')) <= 1220:\n",
    "        season = 'autumn'    \n",
    "    \n",
    "    season_array.append(season)\n",
    "\n",
    "weather_history = weather_history.drop(columns=['date'])\n",
    "weather_history['season'] = season_array"
   ]
  },
  {
   "cell_type": "markdown",
   "metadata": {},
   "source": [
    "Substituindo a coluna season por dummies"
   ]
  },
  {
   "cell_type": "code",
   "execution_count": 164,
   "metadata": {},
   "outputs": [
    {
     "data": {
      "text/plain": [
       "(4137, 31)"
      ]
     },
     "execution_count": 164,
     "metadata": {},
     "output_type": "execute_result"
    }
   ],
   "source": [
    "weather_history = weather_history\n",
    "dummies = pd.get_dummies(weather_history['season'])\n",
    "weather_history = weather_history.drop(columns=['season'])\n",
    "dummie_weather_history = pd.concat([weather_history, dummies], axis=1)\n",
    "\n",
    "dummie_weather_history.shape"
   ]
  }
 ],
 "metadata": {
  "kernelspec": {
   "display_name": "Python 3",
   "language": "python",
   "name": "python3"
  },
  "language_info": {
   "codemirror_mode": {
    "name": "ipython",
    "version": 3
   },
   "file_extension": ".py",
   "mimetype": "text/x-python",
   "name": "python",
   "nbconvert_exporter": "python",
   "pygments_lexer": "ipython3",
   "version": "3.5.2"
  }
 },
 "nbformat": 4,
 "nbformat_minor": 2
}
