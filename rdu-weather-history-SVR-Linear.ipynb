{
 "cells": [
  {
   "cell_type": "markdown",
   "metadata": {},
   "source": [
    "# Índice\n",
    "1. [Introdução](#introduction)\n",
    "2. [Lendo os dados](#reading)   \n",
    "3. [Visão Geral](#visao)    \n",
    " 3.1. [Mapas de Calor](#seaborn)\n",
    "4. [Pré Processamento](#processing)   \n",
    " 4.1. [Agrupamento dos dados para teste](#grouping)   \n",
    " 4.1.1. [Criando nova coluna \"Season\"](#column-season)   \n",
    " 4.2. [Criando DataFrames separados para cada estação](#dataframe-season)   \n",
    "5. [SVR (Support Vector Regression)](#svr)    \n",
    "    5.1. [SVR com kernel linear](#svrLinear)  \n",
    "    5.2. [SVR kernel RBF](#svrRbf)   \n",
    "6. [Referências](#references)"
   ]
  },
  {
   "cell_type": "markdown",
   "metadata": {},
   "source": [
    "## 1. Introdução <a name=\"introduction\"></a>\n",
    "<p>Este <i>dataset</i> contém dados meteorológicos do Aeroporto Internacional de Raleigh Durham retirados do serviço da Web do NOAA.</p>"
   ]
  },
  {
   "cell_type": "markdown",
   "metadata": {},
   "source": [
    "## 2. Lendo os Dados <a name=\"reading\"></a>"
   ]
  },
  {
   "cell_type": "code",
   "execution_count": 1,
   "metadata": {},
   "outputs": [],
   "source": [
    "import pandas as pd\n",
    "\n",
    "# As colunas estão separadas pelo símbolo ';' #. \n",
    "weather_history = pd.read_csv('rdu-weather-history.csv', parse_dates=['date'], sep=';')"
   ]
  },
  {
   "cell_type": "markdown",
   "metadata": {},
   "source": [
    "## 3. Visão geral <a name=\"visao\"></a>\n",
    "<p>O <i>dataset</i> contém informação sobre dados meteorológicos do Aeroporto Internacional de Raleigh Durham, desde 2007. Possui dados como temperaturas mínimas e máximas, volume de chuva, velocidade do vento e etc.</p>   \n",
    "</p>Visualizando as primeiras cinco entradas do DataFrame:</p>    "
   ]
  },
  {
   "cell_type": "code",
   "execution_count": 2,
   "metadata": {},
   "outputs": [
    {
     "data": {
      "text/html": [
       "<div>\n",
       "<style scoped>\n",
       "    .dataframe tbody tr th:only-of-type {\n",
       "        vertical-align: middle;\n",
       "    }\n",
       "\n",
       "    .dataframe tbody tr th {\n",
       "        vertical-align: top;\n",
       "    }\n",
       "\n",
       "    .dataframe thead th {\n",
       "        text-align: right;\n",
       "    }\n",
       "</style>\n",
       "<table border=\"1\" class=\"dataframe\">\n",
       "  <thead>\n",
       "    <tr style=\"text-align: right;\">\n",
       "      <th></th>\n",
       "      <th>date</th>\n",
       "      <th>temperaturemin</th>\n",
       "      <th>temperaturemax</th>\n",
       "      <th>precipitation</th>\n",
       "      <th>snowfall</th>\n",
       "      <th>snowdepth</th>\n",
       "      <th>avgwindspeed</th>\n",
       "      <th>fastest2minwinddir</th>\n",
       "      <th>fastest2minwindspeed</th>\n",
       "      <th>fastest5secwinddir</th>\n",
       "      <th>...</th>\n",
       "      <th>drizzle</th>\n",
       "      <th>snow</th>\n",
       "      <th>freezingrain</th>\n",
       "      <th>smokehaze</th>\n",
       "      <th>thunder</th>\n",
       "      <th>highwind</th>\n",
       "      <th>hail</th>\n",
       "      <th>blowingsnow</th>\n",
       "      <th>dust</th>\n",
       "      <th>freezingfog</th>\n",
       "    </tr>\n",
       "  </thead>\n",
       "  <tbody>\n",
       "    <tr>\n",
       "      <th>0</th>\n",
       "      <td>2009-10-03</td>\n",
       "      <td>55.0</td>\n",
       "      <td>82.0</td>\n",
       "      <td>0.00</td>\n",
       "      <td>0.0</td>\n",
       "      <td>0.0</td>\n",
       "      <td>2.91</td>\n",
       "      <td>240.0</td>\n",
       "      <td>16.11</td>\n",
       "      <td>230.0</td>\n",
       "      <td>...</td>\n",
       "      <td>No</td>\n",
       "      <td>No</td>\n",
       "      <td>No</td>\n",
       "      <td>No</td>\n",
       "      <td>No</td>\n",
       "      <td>No</td>\n",
       "      <td>No</td>\n",
       "      <td>No</td>\n",
       "      <td>No</td>\n",
       "      <td>No</td>\n",
       "    </tr>\n",
       "    <tr>\n",
       "      <th>1</th>\n",
       "      <td>2009-10-10</td>\n",
       "      <td>59.0</td>\n",
       "      <td>79.0</td>\n",
       "      <td>0.02</td>\n",
       "      <td>0.0</td>\n",
       "      <td>0.0</td>\n",
       "      <td>7.83</td>\n",
       "      <td>220.0</td>\n",
       "      <td>17.00</td>\n",
       "      <td>220.0</td>\n",
       "      <td>...</td>\n",
       "      <td>No</td>\n",
       "      <td>No</td>\n",
       "      <td>No</td>\n",
       "      <td>No</td>\n",
       "      <td>No</td>\n",
       "      <td>No</td>\n",
       "      <td>Yes</td>\n",
       "      <td>No</td>\n",
       "      <td>No</td>\n",
       "      <td>No</td>\n",
       "    </tr>\n",
       "    <tr>\n",
       "      <th>2</th>\n",
       "      <td>2009-10-14</td>\n",
       "      <td>46.9</td>\n",
       "      <td>61.0</td>\n",
       "      <td>0.14</td>\n",
       "      <td>0.0</td>\n",
       "      <td>0.0</td>\n",
       "      <td>8.72</td>\n",
       "      <td>40.0</td>\n",
       "      <td>14.99</td>\n",
       "      <td>50.0</td>\n",
       "      <td>...</td>\n",
       "      <td>Yes</td>\n",
       "      <td>No</td>\n",
       "      <td>No</td>\n",
       "      <td>No</td>\n",
       "      <td>No</td>\n",
       "      <td>No</td>\n",
       "      <td>Yes</td>\n",
       "      <td>No</td>\n",
       "      <td>No</td>\n",
       "      <td>No</td>\n",
       "    </tr>\n",
       "    <tr>\n",
       "      <th>3</th>\n",
       "      <td>2009-10-17</td>\n",
       "      <td>45.0</td>\n",
       "      <td>57.9</td>\n",
       "      <td>0.00</td>\n",
       "      <td>0.0</td>\n",
       "      <td>0.0</td>\n",
       "      <td>6.26</td>\n",
       "      <td>30.0</td>\n",
       "      <td>14.09</td>\n",
       "      <td>40.0</td>\n",
       "      <td>...</td>\n",
       "      <td>No</td>\n",
       "      <td>No</td>\n",
       "      <td>No</td>\n",
       "      <td>No</td>\n",
       "      <td>No</td>\n",
       "      <td>No</td>\n",
       "      <td>No</td>\n",
       "      <td>No</td>\n",
       "      <td>No</td>\n",
       "      <td>No</td>\n",
       "    </tr>\n",
       "    <tr>\n",
       "      <th>4</th>\n",
       "      <td>2009-10-29</td>\n",
       "      <td>48.0</td>\n",
       "      <td>68.0</td>\n",
       "      <td>0.00</td>\n",
       "      <td>0.0</td>\n",
       "      <td>0.0</td>\n",
       "      <td>5.82</td>\n",
       "      <td>80.0</td>\n",
       "      <td>14.99</td>\n",
       "      <td>70.0</td>\n",
       "      <td>...</td>\n",
       "      <td>No</td>\n",
       "      <td>No</td>\n",
       "      <td>No</td>\n",
       "      <td>No</td>\n",
       "      <td>No</td>\n",
       "      <td>No</td>\n",
       "      <td>No</td>\n",
       "      <td>No</td>\n",
       "      <td>No</td>\n",
       "      <td>No</td>\n",
       "    </tr>\n",
       "  </tbody>\n",
       "</table>\n",
       "<p>5 rows × 28 columns</p>\n",
       "</div>"
      ],
      "text/plain": [
       "        date  temperaturemin  temperaturemax  precipitation  snowfall  \\\n",
       "0 2009-10-03            55.0            82.0           0.00       0.0   \n",
       "1 2009-10-10            59.0            79.0           0.02       0.0   \n",
       "2 2009-10-14            46.9            61.0           0.14       0.0   \n",
       "3 2009-10-17            45.0            57.9           0.00       0.0   \n",
       "4 2009-10-29            48.0            68.0           0.00       0.0   \n",
       "\n",
       "   snowdepth  avgwindspeed  fastest2minwinddir  fastest2minwindspeed  \\\n",
       "0        0.0          2.91               240.0                 16.11   \n",
       "1        0.0          7.83               220.0                 17.00   \n",
       "2        0.0          8.72                40.0                 14.99   \n",
       "3        0.0          6.26                30.0                 14.09   \n",
       "4        0.0          5.82                80.0                 14.99   \n",
       "\n",
       "   fastest5secwinddir     ...      drizzle snow freezingrain smokehaze  \\\n",
       "0               230.0     ...           No   No           No        No   \n",
       "1               220.0     ...           No   No           No        No   \n",
       "2                50.0     ...          Yes   No           No        No   \n",
       "3                40.0     ...           No   No           No        No   \n",
       "4                70.0     ...           No   No           No        No   \n",
       "\n",
       "  thunder highwind hail blowingsnow dust freezingfog  \n",
       "0      No       No   No          No   No          No  \n",
       "1      No       No  Yes          No   No          No  \n",
       "2      No       No  Yes          No   No          No  \n",
       "3      No       No   No          No   No          No  \n",
       "4      No       No   No          No   No          No  \n",
       "\n",
       "[5 rows x 28 columns]"
      ]
     },
     "execution_count": 2,
     "metadata": {},
     "output_type": "execute_result"
    }
   ],
   "source": [
    "weather_history.head()"
   ]
  },
  {
   "cell_type": "code",
   "execution_count": 3,
   "metadata": {},
   "outputs": [
    {
     "name": "stdout",
     "output_type": "stream",
     "text": [
      "('N\\xc3\\xbamero de linhas do dataset:', 4137)\n",
      "\n",
      "\n",
      "Resumo estatístico do DataFrame:\n"
     ]
    },
    {
     "data": {
      "text/html": [
       "<div>\n",
       "<style scoped>\n",
       "    .dataframe tbody tr th:only-of-type {\n",
       "        vertical-align: middle;\n",
       "    }\n",
       "\n",
       "    .dataframe tbody tr th {\n",
       "        vertical-align: top;\n",
       "    }\n",
       "\n",
       "    .dataframe thead th {\n",
       "        text-align: right;\n",
       "    }\n",
       "</style>\n",
       "<table border=\"1\" class=\"dataframe\">\n",
       "  <thead>\n",
       "    <tr style=\"text-align: right;\">\n",
       "      <th></th>\n",
       "      <th>temperaturemin</th>\n",
       "      <th>temperaturemax</th>\n",
       "      <th>precipitation</th>\n",
       "      <th>snowfall</th>\n",
       "      <th>snowdepth</th>\n",
       "      <th>avgwindspeed</th>\n",
       "      <th>fastest2minwinddir</th>\n",
       "      <th>fastest2minwindspeed</th>\n",
       "      <th>fastest5secwinddir</th>\n",
       "      <th>fastest5secwindspeed</th>\n",
       "    </tr>\n",
       "  </thead>\n",
       "  <tbody>\n",
       "    <tr>\n",
       "      <th>count</th>\n",
       "      <td>4136.000000</td>\n",
       "      <td>4136.000000</td>\n",
       "      <td>4136.000000</td>\n",
       "      <td>4135.000000</td>\n",
       "      <td>4136.000000</td>\n",
       "      <td>4134.000000</td>\n",
       "      <td>4135.000000</td>\n",
       "      <td>4135.000000</td>\n",
       "      <td>4118.000000</td>\n",
       "      <td>4118.000000</td>\n",
       "    </tr>\n",
       "    <tr>\n",
       "      <th>mean</th>\n",
       "      <td>50.540063</td>\n",
       "      <td>72.017021</td>\n",
       "      <td>0.126630</td>\n",
       "      <td>0.012965</td>\n",
       "      <td>0.017384</td>\n",
       "      <td>5.860614</td>\n",
       "      <td>172.541717</td>\n",
       "      <td>15.957151</td>\n",
       "      <td>177.056824</td>\n",
       "      <td>21.801610</td>\n",
       "    </tr>\n",
       "    <tr>\n",
       "      <th>std</th>\n",
       "      <td>16.229527</td>\n",
       "      <td>16.530515</td>\n",
       "      <td>0.371318</td>\n",
       "      <td>0.195214</td>\n",
       "      <td>0.213953</td>\n",
       "      <td>2.958446</td>\n",
       "      <td>94.603272</td>\n",
       "      <td>5.270319</td>\n",
       "      <td>96.850988</td>\n",
       "      <td>7.096004</td>\n",
       "    </tr>\n",
       "    <tr>\n",
       "      <th>min</th>\n",
       "      <td>4.100000</td>\n",
       "      <td>23.200000</td>\n",
       "      <td>0.000000</td>\n",
       "      <td>0.000000</td>\n",
       "      <td>0.000000</td>\n",
       "      <td>0.000000</td>\n",
       "      <td>10.000000</td>\n",
       "      <td>4.920000</td>\n",
       "      <td>10.000000</td>\n",
       "      <td>6.930000</td>\n",
       "    </tr>\n",
       "    <tr>\n",
       "      <th>25%</th>\n",
       "      <td>37.000000</td>\n",
       "      <td>60.100000</td>\n",
       "      <td>0.000000</td>\n",
       "      <td>0.000000</td>\n",
       "      <td>0.000000</td>\n",
       "      <td>3.580000</td>\n",
       "      <td>80.000000</td>\n",
       "      <td>12.970000</td>\n",
       "      <td>90.000000</td>\n",
       "      <td>17.000000</td>\n",
       "    </tr>\n",
       "    <tr>\n",
       "      <th>50%</th>\n",
       "      <td>52.000000</td>\n",
       "      <td>73.900000</td>\n",
       "      <td>0.000000</td>\n",
       "      <td>0.000000</td>\n",
       "      <td>0.000000</td>\n",
       "      <td>5.370000</td>\n",
       "      <td>210.000000</td>\n",
       "      <td>14.990000</td>\n",
       "      <td>210.000000</td>\n",
       "      <td>21.030000</td>\n",
       "    </tr>\n",
       "    <tr>\n",
       "      <th>75%</th>\n",
       "      <td>64.900000</td>\n",
       "      <td>86.000000</td>\n",
       "      <td>0.040000</td>\n",
       "      <td>0.000000</td>\n",
       "      <td>0.000000</td>\n",
       "      <td>7.610000</td>\n",
       "      <td>240.000000</td>\n",
       "      <td>18.120000</td>\n",
       "      <td>240.000000</td>\n",
       "      <td>25.050000</td>\n",
       "    </tr>\n",
       "    <tr>\n",
       "      <th>max</th>\n",
       "      <td>80.100000</td>\n",
       "      <td>105.100000</td>\n",
       "      <td>6.450000</td>\n",
       "      <td>6.690000</td>\n",
       "      <td>5.910000</td>\n",
       "      <td>19.010000</td>\n",
       "      <td>360.000000</td>\n",
       "      <td>59.950000</td>\n",
       "      <td>360.000000</td>\n",
       "      <td>86.120000</td>\n",
       "    </tr>\n",
       "  </tbody>\n",
       "</table>\n",
       "</div>"
      ],
      "text/plain": [
       "       temperaturemin  temperaturemax  precipitation     snowfall  \\\n",
       "count     4136.000000     4136.000000    4136.000000  4135.000000   \n",
       "mean        50.540063       72.017021       0.126630     0.012965   \n",
       "std         16.229527       16.530515       0.371318     0.195214   \n",
       "min          4.100000       23.200000       0.000000     0.000000   \n",
       "25%         37.000000       60.100000       0.000000     0.000000   \n",
       "50%         52.000000       73.900000       0.000000     0.000000   \n",
       "75%         64.900000       86.000000       0.040000     0.000000   \n",
       "max         80.100000      105.100000       6.450000     6.690000   \n",
       "\n",
       "         snowdepth  avgwindspeed  fastest2minwinddir  fastest2minwindspeed  \\\n",
       "count  4136.000000   4134.000000         4135.000000           4135.000000   \n",
       "mean      0.017384      5.860614          172.541717             15.957151   \n",
       "std       0.213953      2.958446           94.603272              5.270319   \n",
       "min       0.000000      0.000000           10.000000              4.920000   \n",
       "25%       0.000000      3.580000           80.000000             12.970000   \n",
       "50%       0.000000      5.370000          210.000000             14.990000   \n",
       "75%       0.000000      7.610000          240.000000             18.120000   \n",
       "max       5.910000     19.010000          360.000000             59.950000   \n",
       "\n",
       "       fastest5secwinddir  fastest5secwindspeed  \n",
       "count         4118.000000           4118.000000  \n",
       "mean           177.056824             21.801610  \n",
       "std             96.850988              7.096004  \n",
       "min             10.000000              6.930000  \n",
       "25%             90.000000             17.000000  \n",
       "50%            210.000000             21.030000  \n",
       "75%            240.000000             25.050000  \n",
       "max            360.000000             86.120000  "
      ]
     },
     "execution_count": 3,
     "metadata": {},
     "output_type": "execute_result"
    }
   ],
   "source": [
    "# Número de entradas\n",
    "print(\"Número de linhas do dataset:\", weather_history.shape[0])\n",
    "\n",
    "print(\"\\n\\nResumo estatístico do DataFrame:\")\n",
    "weather_history.describe()"
   ]
  },
  {
   "cell_type": "code",
   "execution_count": 4,
   "metadata": {},
   "outputs": [
    {
     "name": "stdout",
     "output_type": "stream",
     "text": [
      "<class 'pandas.core.frame.DataFrame'>\n",
      "RangeIndex: 4137 entries, 0 to 4136\n",
      "Data columns (total 28 columns):\n",
      "date                    4137 non-null datetime64[ns]\n",
      "temperaturemin          4136 non-null float64\n",
      "temperaturemax          4136 non-null float64\n",
      "precipitation           4136 non-null float64\n",
      "snowfall                4135 non-null float64\n",
      "snowdepth               4136 non-null float64\n",
      "avgwindspeed            4134 non-null float64\n",
      "fastest2minwinddir      4135 non-null float64\n",
      "fastest2minwindspeed    4135 non-null float64\n",
      "fastest5secwinddir      4118 non-null float64\n",
      "fastest5secwindspeed    4118 non-null float64\n",
      "fog                     4137 non-null object\n",
      "fogheavy                4137 non-null object\n",
      "mist                    4137 non-null object\n",
      "rain                    4137 non-null object\n",
      "fogground               4137 non-null object\n",
      "ice                     4137 non-null object\n",
      "glaze                   4137 non-null object\n",
      "drizzle                 4137 non-null object\n",
      "snow                    4137 non-null object\n",
      "freezingrain            4137 non-null object\n",
      "smokehaze               4137 non-null object\n",
      "thunder                 4137 non-null object\n",
      "highwind                4137 non-null object\n",
      "hail                    4137 non-null object\n",
      "blowingsnow             4137 non-null object\n",
      "dust                    4137 non-null object\n",
      "freezingfog             4137 non-null object\n",
      "dtypes: datetime64[ns](1), float64(10), object(17)\n",
      "memory usage: 905.0+ KB\n"
     ]
    }
   ],
   "source": [
    "weather_history.info()"
   ]
  },
  {
   "cell_type": "markdown",
   "metadata": {},
   "source": [
    "## 3.1 Utilizando a função Seaborn de mapas de calor <a name=\"seaborn\"></a>\n",
    "<p>Seaborn é uma biblioteca em python para criação de visualizações estatísticas.</p>\n",
    "<p>O método ```.corr() ```, calcula o <b>coeficiente de correlação de Pearson</b> entre todos os pares de colunas numéricas do DataFrame.</p>\n",
    "<p>Interpretando o coeficiente:\n",
    "- 0.9 para mais ou para menos indica uma correlação muito forte.\n",
    "- 0.7 a 0.9 positivo ou negativo indica uma correlação forte.\n",
    "- 0.5 a 0.7 positivo ou negativo indica uma correlação moderada.\n",
    "- 0.3 a 0.5 positivo ou negativo indica uma correlação fraca.\n",
    "- 0 a 0.3 positivo ou negativo indica uma correlação desprezível."
   ]
  },
  {
   "cell_type": "code",
   "execution_count": 5,
   "metadata": {},
   "outputs": [],
   "source": [
    "import seaborn as sns; sns.set()\n",
    "import matplotlib.pyplot as plt\n",
    "\n",
    "plt.figure(figsize=(18,10))\n",
    "weather_map = sns.heatmap(weather_history.corr(), annot=True, square=True, cmap=\"YlGnBu\", linewidths=.3)\n"
   ]
  },
  {
   "cell_type": "markdown",
   "metadata": {},
   "source": [
    "## 4. Pré-processamento dos dados <a name=\"processing\"></a>"
   ]
  },
  {
   "cell_type": "code",
   "execution_count": 6,
   "metadata": {},
   "outputs": [],
   "source": [
    "# Substituindo as string por números binários -- No = 0.0 e Yes = 1.0\n",
    "\n",
    "weather_history = weather_history.replace('No', 0.0)\n",
    "weather_history = weather_history.replace('Yes', 1.0)"
   ]
  },
  {
   "cell_type": "code",
   "execution_count": 7,
   "metadata": {},
   "outputs": [
    {
     "data": {
      "text/plain": [
       "date                     0\n",
       "temperaturemin           1\n",
       "temperaturemax           1\n",
       "precipitation            1\n",
       "snowfall                 2\n",
       "snowdepth                1\n",
       "avgwindspeed             3\n",
       "fastest2minwinddir       2\n",
       "fastest2minwindspeed     2\n",
       "fastest5secwinddir      19\n",
       "fastest5secwindspeed    19\n",
       "fog                      0\n",
       "fogheavy                 0\n",
       "mist                     0\n",
       "rain                     0\n",
       "fogground                0\n",
       "ice                      0\n",
       "glaze                    0\n",
       "drizzle                  0\n",
       "snow                     0\n",
       "freezingrain             0\n",
       "smokehaze                0\n",
       "thunder                  0\n",
       "highwind                 0\n",
       "hail                     0\n",
       "blowingsnow              0\n",
       "dust                     0\n",
       "freezingfog              0\n",
       "dtype: int64"
      ]
     },
     "execution_count": 7,
     "metadata": {},
     "output_type": "execute_result"
    }
   ],
   "source": [
    "# Verificando a soma dos valores nulos em cada feature\n",
    "\n",
    "weather_history.isnull().sum()"
   ]
  },
  {
   "cell_type": "code",
   "execution_count": 8,
   "metadata": {},
   "outputs": [
    {
     "data": {
      "text/plain": [
       "date                    0\n",
       "temperaturemin          0\n",
       "temperaturemax          0\n",
       "precipitation           0\n",
       "snowfall                0\n",
       "snowdepth               0\n",
       "avgwindspeed            0\n",
       "fastest2minwinddir      0\n",
       "fastest2minwindspeed    0\n",
       "fastest5secwinddir      0\n",
       "fastest5secwindspeed    0\n",
       "fog                     0\n",
       "fogheavy                0\n",
       "mist                    0\n",
       "rain                    0\n",
       "fogground               0\n",
       "ice                     0\n",
       "glaze                   0\n",
       "drizzle                 0\n",
       "snow                    0\n",
       "freezingrain            0\n",
       "smokehaze               0\n",
       "thunder                 0\n",
       "highwind                0\n",
       "hail                    0\n",
       "blowingsnow             0\n",
       "dust                    0\n",
       "freezingfog             0\n",
       "dtype: int64"
      ]
     },
     "execution_count": 8,
     "metadata": {},
     "output_type": "execute_result"
    }
   ],
   "source": [
    "from sklearn.preprocessing import Imputer\n",
    "import numpy as np\n",
    "\n",
    "#Substituindo os valores nulos pela média dos valores referentes a feature\n",
    "imputer = Imputer(missing_values=np.nan, strategy='median', axis=0)\n",
    "weather_history[['temperaturemin']] = imputer.fit_transform(weather_history[['temperaturemin']])\n",
    "weather_history[['temperaturemax']] = imputer.fit_transform(weather_history[['temperaturemax']])\n",
    "weather_history[['precipitation']] = imputer.fit_transform(weather_history[['precipitation']])\n",
    "weather_history[['snowfall']] = imputer.fit_transform(weather_history[['snowfall']])\n",
    "weather_history[['snowdepth']] = imputer.fit_transform(weather_history[['snowdepth']])\n",
    "weather_history[['avgwindspeed']] = imputer.fit_transform(weather_history[['avgwindspeed']])\n",
    "weather_history[['fastest2minwinddir']] = imputer.fit_transform(weather_history[['fastest2minwinddir']])\n",
    "weather_history[['fastest2minwindspeed']] = imputer.fit_transform(weather_history[['fastest2minwindspeed']])\n",
    "weather_history[['fastest5secwinddir']] = imputer.fit_transform(weather_history[['fastest5secwinddir']])\n",
    "weather_history[['fastest5secwindspeed']] = imputer.fit_transform(weather_history[['fastest5secwindspeed']])\n",
    "\n",
    "weather_history.isnull().sum()"
   ]
  },
  {
   "cell_type": "markdown",
   "metadata": {},
   "source": [
    "## 4.1. Agrupamento dos dados para teste    <a name=\"grouping\"></a>\n",
    "\n",
    "Como o clima de uma região possui uma grande relação com as estações do ano, os dados para teste foram agrupados de acordo com a estação que occorre em uma data específica.\n",
    "\n",
    "- Primavera: 20 de março a 20 de junho \n",
    "- Verão: 21 de junho a 21 de setembro\n",
    "- Outono: 22 de setembro a 20 de dezembro\n",
    "- Inverno: 21 de dezembro a 19 de março"
   ]
  },
  {
   "cell_type": "markdown",
   "metadata": {},
   "source": [
    "### 4.1.1. Criando nova coluna \"Season\"    <a name=\"column-season\"></a>\n",
    "\n",
    "A coluna \"season\" foi criada com base nos periodos de inicio e de fim das estações do ano no local em que os dados foram colhidos."
   ]
  },
  {
   "cell_type": "markdown",
   "metadata": {},
   "source": [
    "Antes de utilizar o algoritimo para definir as estações a partir das datas é feita uma pequena alteração no formato da data.  \n",
    "Antes: AAAA-MM-DD  \n",
    "Depois: AAAAMMDD"
   ]
  },
  {
   "cell_type": "code",
   "execution_count": 9,
   "metadata": {},
   "outputs": [],
   "source": [
    "season_array = []\n",
    "\n",
    "for date in weather_history['date']:\n",
    "    if int(date.strftime('%m%d')) >= 1221 or int(date.strftime('%m%d')) <= 319:\n",
    "        season = 0 #'winter'\n",
    "    elif int(date.strftime('%m%d')) >= 320 and int(date.strftime('%m%d')) <= 620:\n",
    "        season = 1 #'spring'\n",
    "    elif int(date.strftime('%m%d')) >= 621 and int(date.strftime('%m%d')) <= 921:\n",
    "        season = 2 #'summer'\n",
    "    elif int(date.strftime('%m%d')) >= 922 and int(date.strftime('%m%d')) <= 1220:\n",
    "        season = 3 #'autumn'    \n",
    "    \n",
    "    season_array.append(season)\n",
    "\n",
    "weather_history['season'] = season_array"
   ]
  },
  {
   "cell_type": "code",
   "execution_count": 10,
   "metadata": {},
   "outputs": [
    {
     "data": {
      "text/html": [
       "<div>\n",
       "<style scoped>\n",
       "    .dataframe tbody tr th:only-of-type {\n",
       "        vertical-align: middle;\n",
       "    }\n",
       "\n",
       "    .dataframe tbody tr th {\n",
       "        vertical-align: top;\n",
       "    }\n",
       "\n",
       "    .dataframe thead th {\n",
       "        text-align: right;\n",
       "    }\n",
       "</style>\n",
       "<table border=\"1\" class=\"dataframe\">\n",
       "  <thead>\n",
       "    <tr style=\"text-align: right;\">\n",
       "      <th></th>\n",
       "      <th>date</th>\n",
       "      <th>temperaturemin</th>\n",
       "      <th>temperaturemax</th>\n",
       "      <th>precipitation</th>\n",
       "      <th>snowfall</th>\n",
       "      <th>snowdepth</th>\n",
       "      <th>avgwindspeed</th>\n",
       "      <th>fastest2minwinddir</th>\n",
       "      <th>fastest2minwindspeed</th>\n",
       "      <th>fastest5secwinddir</th>\n",
       "      <th>...</th>\n",
       "      <th>snow</th>\n",
       "      <th>freezingrain</th>\n",
       "      <th>smokehaze</th>\n",
       "      <th>thunder</th>\n",
       "      <th>highwind</th>\n",
       "      <th>hail</th>\n",
       "      <th>blowingsnow</th>\n",
       "      <th>dust</th>\n",
       "      <th>freezingfog</th>\n",
       "      <th>season</th>\n",
       "    </tr>\n",
       "  </thead>\n",
       "  <tbody>\n",
       "    <tr>\n",
       "      <th>2070</th>\n",
       "      <td>2007-01-01</td>\n",
       "      <td>48.9</td>\n",
       "      <td>68.0</td>\n",
       "      <td>0.45</td>\n",
       "      <td>0.0</td>\n",
       "      <td>0.0</td>\n",
       "      <td>12.75</td>\n",
       "      <td>190.0</td>\n",
       "      <td>25.05</td>\n",
       "      <td>180.0</td>\n",
       "      <td>...</td>\n",
       "      <td>0.0</td>\n",
       "      <td>0.0</td>\n",
       "      <td>0.0</td>\n",
       "      <td>0.0</td>\n",
       "      <td>0.0</td>\n",
       "      <td>0.0</td>\n",
       "      <td>0.0</td>\n",
       "      <td>0.0</td>\n",
       "      <td>0.0</td>\n",
       "      <td>0</td>\n",
       "    </tr>\n",
       "    <tr>\n",
       "      <th>813</th>\n",
       "      <td>2007-01-02</td>\n",
       "      <td>32.0</td>\n",
       "      <td>55.9</td>\n",
       "      <td>0.00</td>\n",
       "      <td>0.0</td>\n",
       "      <td>0.0</td>\n",
       "      <td>3.13</td>\n",
       "      <td>320.0</td>\n",
       "      <td>12.97</td>\n",
       "      <td>330.0</td>\n",
       "      <td>...</td>\n",
       "      <td>0.0</td>\n",
       "      <td>0.0</td>\n",
       "      <td>0.0</td>\n",
       "      <td>0.0</td>\n",
       "      <td>0.0</td>\n",
       "      <td>0.0</td>\n",
       "      <td>0.0</td>\n",
       "      <td>0.0</td>\n",
       "      <td>0.0</td>\n",
       "      <td>0</td>\n",
       "    </tr>\n",
       "    <tr>\n",
       "      <th>814</th>\n",
       "      <td>2007-01-03</td>\n",
       "      <td>28.9</td>\n",
       "      <td>62.1</td>\n",
       "      <td>0.00</td>\n",
       "      <td>0.0</td>\n",
       "      <td>0.0</td>\n",
       "      <td>2.24</td>\n",
       "      <td>220.0</td>\n",
       "      <td>14.09</td>\n",
       "      <td>220.0</td>\n",
       "      <td>...</td>\n",
       "      <td>0.0</td>\n",
       "      <td>0.0</td>\n",
       "      <td>0.0</td>\n",
       "      <td>0.0</td>\n",
       "      <td>0.0</td>\n",
       "      <td>0.0</td>\n",
       "      <td>0.0</td>\n",
       "      <td>0.0</td>\n",
       "      <td>0.0</td>\n",
       "      <td>0</td>\n",
       "    </tr>\n",
       "    <tr>\n",
       "      <th>815</th>\n",
       "      <td>2007-01-04</td>\n",
       "      <td>46.0</td>\n",
       "      <td>69.1</td>\n",
       "      <td>0.00</td>\n",
       "      <td>0.0</td>\n",
       "      <td>0.0</td>\n",
       "      <td>4.47</td>\n",
       "      <td>220.0</td>\n",
       "      <td>14.09</td>\n",
       "      <td>230.0</td>\n",
       "      <td>...</td>\n",
       "      <td>0.0</td>\n",
       "      <td>0.0</td>\n",
       "      <td>0.0</td>\n",
       "      <td>0.0</td>\n",
       "      <td>0.0</td>\n",
       "      <td>0.0</td>\n",
       "      <td>0.0</td>\n",
       "      <td>0.0</td>\n",
       "      <td>0.0</td>\n",
       "      <td>0</td>\n",
       "    </tr>\n",
       "    <tr>\n",
       "      <th>2449</th>\n",
       "      <td>2007-01-05</td>\n",
       "      <td>57.0</td>\n",
       "      <td>72.0</td>\n",
       "      <td>0.86</td>\n",
       "      <td>0.0</td>\n",
       "      <td>0.0</td>\n",
       "      <td>8.05</td>\n",
       "      <td>190.0</td>\n",
       "      <td>21.03</td>\n",
       "      <td>190.0</td>\n",
       "      <td>...</td>\n",
       "      <td>0.0</td>\n",
       "      <td>0.0</td>\n",
       "      <td>0.0</td>\n",
       "      <td>0.0</td>\n",
       "      <td>0.0</td>\n",
       "      <td>0.0</td>\n",
       "      <td>0.0</td>\n",
       "      <td>0.0</td>\n",
       "      <td>0.0</td>\n",
       "      <td>0</td>\n",
       "    </tr>\n",
       "  </tbody>\n",
       "</table>\n",
       "<p>5 rows × 29 columns</p>\n",
       "</div>"
      ],
      "text/plain": [
       "           date  temperaturemin  temperaturemax  precipitation  snowfall  \\\n",
       "2070 2007-01-01            48.9            68.0           0.45       0.0   \n",
       "813  2007-01-02            32.0            55.9           0.00       0.0   \n",
       "814  2007-01-03            28.9            62.1           0.00       0.0   \n",
       "815  2007-01-04            46.0            69.1           0.00       0.0   \n",
       "2449 2007-01-05            57.0            72.0           0.86       0.0   \n",
       "\n",
       "      snowdepth  avgwindspeed  fastest2minwinddir  fastest2minwindspeed  \\\n",
       "2070        0.0         12.75               190.0                 25.05   \n",
       "813         0.0          3.13               320.0                 12.97   \n",
       "814         0.0          2.24               220.0                 14.09   \n",
       "815         0.0          4.47               220.0                 14.09   \n",
       "2449        0.0          8.05               190.0                 21.03   \n",
       "\n",
       "      fastest5secwinddir   ...    snow  freezingrain  smokehaze  thunder  \\\n",
       "2070               180.0   ...     0.0           0.0        0.0      0.0   \n",
       "813                330.0   ...     0.0           0.0        0.0      0.0   \n",
       "814                220.0   ...     0.0           0.0        0.0      0.0   \n",
       "815                230.0   ...     0.0           0.0        0.0      0.0   \n",
       "2449               190.0   ...     0.0           0.0        0.0      0.0   \n",
       "\n",
       "      highwind  hail  blowingsnow  dust  freezingfog  season  \n",
       "2070       0.0   0.0          0.0   0.0          0.0       0  \n",
       "813        0.0   0.0          0.0   0.0          0.0       0  \n",
       "814        0.0   0.0          0.0   0.0          0.0       0  \n",
       "815        0.0   0.0          0.0   0.0          0.0       0  \n",
       "2449       0.0   0.0          0.0   0.0          0.0       0  \n",
       "\n",
       "[5 rows x 29 columns]"
      ]
     },
     "execution_count": 10,
     "metadata": {},
     "output_type": "execute_result"
    }
   ],
   "source": [
    "#Ordenando o dataset pela coluna data\n",
    "\n",
    "weather_history = weather_history.sort_values('date', ascending=True)\n",
    "weather_history.head()"
   ]
  },
  {
   "cell_type": "markdown",
   "metadata": {},
   "source": [
    "## 4.2. Criando DataFrames separados para cada estação. <a name=\"dataframe-season\"></a>"
   ]
  },
  {
   "cell_type": "code",
   "execution_count": 11,
   "metadata": {},
   "outputs": [],
   "source": [
    "winter_weather_history = weather_history[weather_history['season'] == 0]\n",
    "spring_weather_history = weather_history[weather_history['season'] == 1]\n",
    "summer_weather_history = weather_history[weather_history['season'] == 2]\n",
    "autumn_weather_history = weather_history[weather_history['season'] == 3]"
   ]
  },
  {
   "cell_type": "code",
   "execution_count": 12,
   "metadata": {},
   "outputs": [
    {
     "data": {
      "image/png": "[encoded data removed]",
      "text/plain": [
       "<matplotlib.figure.Figure at 0x7f1ed0e13f90>"
      ]
     },
     "metadata": {},
     "output_type": "display_data"
    }
   ],
   "source": [
    "len_winter = len(winter_weather_history['date'])\n",
    "len_summer = len(summer_weather_history['date'])\n",
    "len_spring = len(spring_weather_history['date'])\n",
    "len_autumn = len(autumn_weather_history['date'])\n",
    "\n",
    "X = ['winter', 'summer', 'spring', 'autumn']\n",
    "Y = [len_winter, len_summer, len_spring, len_autumn]\n",
    "\n",
    "plt.bar(X, Y)\n",
    "plt.xlabel('Seasons')\n",
    "plt.ylabel('Amount of data for each season')\n",
    "plt.title('Season per amount')\n",
    "plt.show()"
   ]
  },
  {
   "cell_type": "code",
   "execution_count": 13,
   "metadata": {},
   "outputs": [
    {
     "data": {
      "text/plain": [
       "<matplotlib.axes._subplots.AxesSubplot at 0x7f1f08595710>"
      ]
     },
     "execution_count": 13,
     "metadata": {},
     "output_type": "execute_result"
    },
    {
     "data": {
      "image/png": "[encoded data removed]",
      "text/plain": [
       "<matplotlib.figure.Figure at 0x7f1ed0e17350>"
      ]
     },
     "metadata": {},
     "output_type": "display_data"
    }
   ],
   "source": [
    "# Exemplo para mostrar que a correlação com a divisão do dataframe em estações aumentou. Nesse exemplo\n",
    "# tem os dados do verão de 2007\n",
    "\n",
    "plt.figure(figsize=(10,8))\n",
    "\n",
    "summer_weather_history = summer_weather_history[summer_weather_history['date'] <= '2007-12-31']                                        \n",
    "summer_weather_history = summer_weather_history.drop(columns=['snowfall', 'snowdepth', 'ice', 'glaze', 'freezingrain', 'highwind', 'hail', 'blowingsnow', 'dust', 'freezingfog', 'season', 'snow'])\n",
    "sns.heatmap(summer_weather_history.corr(), square=True, cmap=\"YlGnBu\", linewidths=.2)"
   ]
  },
  {
   "cell_type": "markdown",
   "metadata": {},
   "source": [
    "## 5. SVR (Support Vector Regression)  <a name=\"svr\"></a>  "
   ]
  },
  {
   "cell_type": "markdown",
   "metadata": {},
   "source": [
    "Support Vector Regression é uma extensão do Support Vector Classification que é capaz de realizar regressões. Esse método realiza o mapeamento dos dados em um espaço multidimensional através de um mapeamento não-linear (geralmente utilizando kernels) e então realiza uma regressão linear neste espaço multidimensional transformado.\n",
    "\n",
    "A ideia básico dos SV é a criação de hiperplanos para separar os dados.\n",
    "\n",
    "O SVR depende apenas de um subconjunto dos dados de treinamento, porque a função custo para a construção do modelo ignora os dados de treinamento perto da previsão do modelo.\n",
    "\n",
    "Devido ao uso dos kernel tricks, o SVR pode tratar dados pouco linearmente separáveis como linearmente sepaŕaveis através do aumento do espaço dimensional onde os dados estão inseridos.\n",
    "\n",
    "O uso de kernel pode ser entendido através dos seguintes gráficos:\n",
    "\n",
    "![grafico1](https://cdn-images-1.medium.com/max/1600/0*ngkO1BblQXnOTcmr.png)\n",
    "\n",
    "Os principais parâmetros do SVR aqui utilizados são:\n",
    "\n",
    "* Kernel: define o tipo de kernel que será utilizado (aqui serão utilizados os kernels linear e RBF)\n",
    "\n",
    "\n",
    "* C (cost): define o peso de uma classificação errônea de exemplos de treinamento com relação a simplicidade da superfície de decisão. Um C baixo torna a superfície de decisão suave, enquanto um C alto tem como objetivo classificar todos os exemplos de treinamento corretamente, dando ao modelo a liberdade de selecionar mais amostras como vetores de suporte. Ou seja, o parâmetro faz o peso entre acurácia e eficácia, onde um C pequeno tende a aumentar a acurácia e um C grande tende a executar mais rapidamente.\n",
    "\n",
    "\n",
    "* gamma (utilizado somente no RBF): define até onde chega a influência de um único exemplo de treinamento, com valores baixos significando \"longe\" e valores altos significando \"perto\". Basicamente um gamma muito grande causa overfitting e um gamma muito pequeno faria com que o RBF se tornasse muito parecido com um linear, já que a influência de um vetor seria muito grande.\n",
    "\n",
    "\n",
    "* epsilon: é, resumidamente, a margem de erro que não é penalizado na regressão. Assim sendo, um epsilon muito grande permite que os erros não sejam penalizados, e um epsilon muito pequeno penaliza praticamente todos os erros.\n",
    "\n",
    "Os demais ou não se adequam aos tipos de kernel (como degree e coef0) ou a variação de seus valores dentro do intervalo testado não surtiram diferenças significativas.\n"
   ]
  },
  {
   "cell_type": "code",
   "execution_count": 14,
   "metadata": {},
   "outputs": [],
   "source": [
    "   \n",
    "import matplotlib.pyplot as plt\n",
    "X = weather_history.drop('temperaturemin', axis=1).values\n",
    "y = weather_history['temperaturemin'].values\n",
    "\n",
    "weather_history_no_min = weather_history.drop('temperaturemin', axis=1)\n",
    "\n",
    "X_new = weather_history_no_min\n",
    "for i in enumerate(weather_history_no_min.columns):\n",
    "    related_value = weather_history_no_min[i[1]].values\n",
    "    if np.array_equal(np.unique(related_value), [0, 1.]):\n",
    "        X_new = X_new.drop(i[1], axis=1)"
   ]
  },
  {
   "cell_type": "markdown",
   "metadata": {},
   "source": [
    "## 5.1. SVR com kernel linear <a name=\"svrLinear\"></a>"
   ]
  },
  {
   "cell_type": "code",
   "execution_count": 15,
   "metadata": {},
   "outputs": [
    {
     "data": {
      "text/plain": [
       "SVR(C=2.0, cache_size=200, coef0=0.0, degree=3, epsilon=0.1, gamma='auto',\n",
       "  kernel='linear', max_iter=-1, shrinking=True, tol=0.001, verbose=False)"
      ]
     },
     "execution_count": 15,
     "metadata": {},
     "output_type": "execute_result"
    }
   ],
   "source": [
    "from sklearn.svm import SVR\n",
    "from sklearn.model_selection import train_test_split\n",
    "\n",
    "X_new_new = X_new.drop('date', axis=1)\n",
    "X_new_new = X_new_new.values\n",
    "\n",
    "regr = SVR(kernel='linear', C=2.0)\n",
    "\n",
    "X_train, X_test, y_train, y_test = train_test_split(X_new_new, y, test_size=0.25, random_state=42)\n",
    "regr.fit(X_train, y_train)"
   ]
  },
  {
   "cell_type": "code",
   "execution_count": 16,
   "metadata": {},
   "outputs": [
    {
     "name": "stdout",
     "output_type": "stream",
     "text": [
      "\n",
      "Training set score: 0.853\n",
      "\n",
      "Testing set score: 0.855\n",
      "\n",
      "Features: 11\n"
     ]
    }
   ],
   "source": [
    "print(\"\\nTraining set score: {:.3f}\".format(regr.score(X_train, y_train)))\n",
    "print(\"\\nTesting set score: {:.3f}\".format(regr.score(X_test, y_test)))\n",
    "print(\"\\nFeatures: {}\".format(np.sum(regr.coef_.shape)))"
   ]
  },
  {
   "cell_type": "code",
   "execution_count": 17,
   "metadata": {},
   "outputs": [
    {
     "data": {
      "image/png": "[encoded data removed]",
      "text/plain": [
       "<matplotlib.figure.Figure at 0x7f1ed0196fd0>"
      ]
     },
     "metadata": {},
     "output_type": "display_data"
    }
   ],
   "source": [
    "predict = regr.predict(X_test)\n",
    "figure, axes = plt.subplots(figsize=(9, 9))\n",
    "ax = sns.regplot(x = y_test, y = predict, scatter_kws={\"color\": \"orange\"}, line_kws={\"color\": \"blue\"})\n",
    "ax = ax.set(xlabel='Actual Temperaturemin: Test Set', ylabel = 'Predicted Temperaturemin: Test Set')"
   ]
  },
  {
   "cell_type": "markdown",
   "metadata": {},
   "source": [
    "## Winter"
   ]
  },
  {
   "cell_type": "code",
   "execution_count": 18,
   "metadata": {},
   "outputs": [
    {
     "name": "stdout",
     "output_type": "stream",
     "text": [
      "\n",
      "Training set score: 0.726\n",
      "Test set score: 0.716\n"
     ]
    }
   ],
   "source": [
    "X_winter = winter_weather_history.drop('temperaturemin', axis=1)\n",
    "X_winter = X_winter.drop('date', axis=1)\n",
    "X_winter = X_winter.drop('season', axis=1)\n",
    "X_winter.shape\n",
    "\n",
    "y_winter = (winter_weather_history['temperaturemin'])\n",
    "y_winter.shape\n",
    "\n",
    "# Separando o dataset em treino e teste. 30% para teste, e 70% para treinamento.\n",
    "X_train, X_test, y_train, y_test = train_test_split(X_winter, y_winter, test_size = 0.3, random_state=42)\n",
    "\n",
    "regr = SVR(kernel='linear', C=2.0)\n",
    "regr.fit(X_train, y_train) \n",
    "\n",
    "print(\"\\nTraining set score: {:.3f}\".format(regr.score(X_train, y_train)))\n",
    "print(\"Test set score: {:.3f}\".format(regr.score(X_test, y_test)))"
   ]
  },
  {
   "cell_type": "markdown",
   "metadata": {},
   "source": [
    "## Summer"
   ]
  },
  {
   "cell_type": "code",
   "execution_count": 19,
   "metadata": {},
   "outputs": [
    {
     "name": "stdout",
     "output_type": "stream",
     "text": [
      "\n",
      "Training set score: 0.567\n",
      "Test set score: 0.606\n"
     ]
    }
   ],
   "source": [
    "X_summer = summer_weather_history.drop('temperaturemin', axis=1)\n",
    "X_summer = X_summer.drop('date', axis=1)\n",
    "X_summer.shape\n",
    "\n",
    "y_summer = (summer_weather_history['temperaturemin'])\n",
    "y_summer.shape\n",
    "\n",
    "# Separando o dataset em treino e teste. 30% para teste, e 70% para treinamento.\n",
    "X_train, X_test, y_train, y_test = train_test_split(X_summer, y_summer, test_size = 0.3, random_state=42)\n",
    "\n",
    "regr = SVR(kernel='linear', C=2.0)\n",
    "regr.fit(X_train, y_train) \n",
    "\n",
    "print(\"\\nTraining set score: {:.3f}\".format(regr.score(X_train, y_train)))\n",
    "print(\"Test set score: {:.3f}\".format(regr.score(X_test, y_test)))"
   ]
  },
  {
   "cell_type": "markdown",
   "metadata": {},
   "source": [
    "## Spring"
   ]
  },
  {
   "cell_type": "code",
   "execution_count": 20,
   "metadata": {},
   "outputs": [
    {
     "name": "stdout",
     "output_type": "stream",
     "text": [
      "\n",
      "Training set score: 0.746\n",
      "Test set score: 0.727\n"
     ]
    }
   ],
   "source": [
    "X_spring = spring_weather_history.drop('temperaturemin', axis=1)\n",
    "X_spring = X_spring.drop('date', axis=1)\n",
    "X_spring = X_spring.drop('season', axis=1)\n",
    "X_spring.shape\n",
    "\n",
    "y_spring = (spring_weather_history['temperaturemin'])\n",
    "y_spring.shape\n",
    "\n",
    "# Separando o dataset em treino e teste. 30% para teste, e 70% para treinamento.\n",
    "X_train, X_test, y_train, y_test = train_test_split(X_spring, y_spring, test_size = 0.3, random_state=42)\n",
    "\n",
    "regr = SVR(kernel='linear', C=2.0)\n",
    "regr.fit(X_train, y_train) \n",
    "\n",
    "print(\"\\nTraining set score: {:.3f}\".format(regr.score(X_train, y_train)))\n",
    "print(\"Test set score: {:.3f}\".format(regr.score(X_test, y_test)))"
   ]
  },
  {
   "cell_type": "markdown",
   "metadata": {},
   "source": [
    "## Autumn"
   ]
  },
  {
   "cell_type": "code",
   "execution_count": 21,
   "metadata": {},
   "outputs": [
    {
     "name": "stdout",
     "output_type": "stream",
     "text": [
      "\n",
      "Training set score: 0.786\n",
      "Test set score: 0.768\n"
     ]
    }
   ],
   "source": [
    "X_autumn = autumn_weather_history.drop('temperaturemin', axis=1)\n",
    "X_autumn = X_autumn.drop('date', axis=1)\n",
    "X_autumn = X_autumn.drop('season', axis=1)\n",
    "X_autumn.shape\n",
    "\n",
    "y_autumn = (autumn_weather_history['temperaturemin'])\n",
    "y_autumn.shape\n",
    "\n",
    "# Separando o dataset em treino e teste. 30% para teste, e 70% para treinamento.\n",
    "X_train, X_test, y_train, y_test = train_test_split(X_autumn, y_autumn, test_size = 0.3, random_state=42)\n",
    "\n",
    "regr = SVR(kernel='linear', C=2.0)\n",
    "regr.fit(X_train, y_train) \n",
    "\n",
    "print(\"\\nTraining set score: {:.3f}\".format(regr.score(X_train, y_train)))\n",
    "print(\"Test set score: {:.3f}\".format(regr.score(X_test, y_test)))"
   ]
  },
  {
   "cell_type": "markdown",
   "metadata": {},
   "source": [
    "## 5.2. SVR kernel RBF <a name=\"svrRbf\"></a>"
   ]
  },
  {
   "cell_type": "code",
   "execution_count": 22,
   "metadata": {
    "scrolled": true
   },
   "outputs": [
    {
     "name": "stdout",
     "output_type": "stream",
     "text": [
      "\n",
      "Training set score: 0.627\n",
      "\n",
      "Testing set score: 0.539\n"
     ]
    },
    {
     "data": {
      "image/png": "[encoded data removed]",
      "text/plain": [
       "<matplotlib.figure.Figure at 0x7f1ed00a2a10>"
      ]
     },
     "metadata": {},
     "output_type": "display_data"
    }
   ],
   "source": [
    "regrRbf = SVR(kernel='rbf', gamma=0.001, C=2.0)\n",
    "regrRbf.fit(X_train, y_train)\n",
    "regrRbf.score(X_train, y_train)\n",
    "predictRbf = regrRbf.predict(X_test)\n",
    "\n",
    "figure, axes = plt.subplots(figsize=(9, 9))\n",
    "ax = sns.regplot(x = y_test, y = predictRbf, scatter_kws={\"color\": \"orange\"}, line_kws={\"color\": \"blue\"})\n",
    "ax = ax.set(xlabel='Actual Temperaturemin: Test Set', ylabel = 'Predicted Temperaturemin: Test Set')\n",
    "\n",
    "print(\"\\nTraining set score: {:.3f}\".format(regrRbf.score(X_train, y_train)))\n",
    "print(\"\\nTesting set score: {:.3f}\".format(regrRbf.score(X_test, y_test)))"
   ]
  },
  {
   "cell_type": "markdown",
   "metadata": {},
   "source": [
    "## Winter"
   ]
  },
  {
   "cell_type": "code",
   "execution_count": 23,
   "metadata": {},
   "outputs": [
    {
     "name": "stdout",
     "output_type": "stream",
     "text": [
      "\n",
      "Training set score: 0.588\n",
      "Test set score: 0.519\n"
     ]
    }
   ],
   "source": [
    "X_winter = winter_weather_history.drop('temperaturemin', axis=1)\n",
    "X_winter = X_winter.drop('date', axis=1)\n",
    "X_winter = X_winter.drop('season', axis=1)\n",
    "X_winter.shape\n",
    "\n",
    "y_winter = (winter_weather_history['temperaturemin'])\n",
    "y_winter.shape\n",
    "\n",
    "# Separando o dataset em treino e teste. 30% para teste, e 70% para treinamento.\n",
    "X_train, X_test, y_train, y_test = train_test_split(X_winter, y_winter, test_size = 0.3, random_state=42)\n",
    "\n",
    "regrRbf = SVR(kernel='rbf', gamma=0.001, C=2.0)\n",
    "regrRbf.fit(X_train, y_train) \n",
    "\n",
    "print(\"\\nTraining set score: {:.3f}\".format(regrRbf.score(X_train, y_train)))\n",
    "print(\"Test set score: {:.3f}\".format(regrRbf.score(X_test, y_test)))"
   ]
  },
  {
   "cell_type": "markdown",
   "metadata": {},
   "source": [
    "## Summer"
   ]
  },
  {
   "cell_type": "code",
   "execution_count": 24,
   "metadata": {},
   "outputs": [
    {
     "name": "stdout",
     "output_type": "stream",
     "text": [
      "\n",
      "Training set score: 0.350\n",
      "Test set score: 0.160\n"
     ]
    }
   ],
   "source": [
    "X_summer = summer_weather_history.drop('temperaturemin', axis=1)\n",
    "X_summer = X_summer.drop('date', axis=1)\n",
    "X_summer.shape\n",
    "\n",
    "y_summer = (summer_weather_history['temperaturemin'])\n",
    "y_summer.shape\n",
    "\n",
    "# Separando o dataset em treino e teste. 30% para teste, e 70% para treinamento.\n",
    "X_train, X_test, y_train, y_test = train_test_split(X_summer, y_summer, test_size = 0.3, random_state=42)\n",
    "\n",
    "regrRbf = SVR(kernel='rbf', gamma=0.001, C=2.0)\n",
    "regrRbf.fit(X_train, y_train) \n",
    "\n",
    "print(\"\\nTraining set score: {:.3f}\".format(regrRbf.score(X_train, y_train)))\n",
    "print(\"Test set score: {:.3f}\".format(regrRbf.score(X_test, y_test)))"
   ]
  },
  {
   "cell_type": "markdown",
   "metadata": {},
   "source": [
    "## Spring"
   ]
  },
  {
   "cell_type": "code",
   "execution_count": 25,
   "metadata": {},
   "outputs": [
    {
     "name": "stdout",
     "output_type": "stream",
     "text": [
      "\n",
      "Training set score: 0.614\n",
      "Test set score: 0.566\n"
     ]
    }
   ],
   "source": [
    "X_spring = spring_weather_history.drop('temperaturemin', axis=1)\n",
    "X_spring = X_spring.drop('date', axis=1)\n",
    "X_spring = X_spring.drop('season', axis=1)\n",
    "X_spring.shape\n",
    "\n",
    "y_spring = (spring_weather_history['temperaturemin'])\n",
    "y_spring.shape\n",
    "\n",
    "# Separando o dataset em treino e teste. 30% para teste, e 70% para treinamento.\n",
    "X_train, X_test, y_train, y_test = train_test_split(X_spring, y_spring, test_size = 0.3, random_state=42)\n",
    "\n",
    "regrRbf = SVR(kernel='rbf', gamma=0.001, C=2.0)\n",
    "regrRbf.fit(X_train, y_train) \n",
    "\n",
    "print(\"\\nTraining set score: {:.3f}\".format(regrRbf.score(X_train, y_train)))\n",
    "print(\"Test set score: {:.3f}\".format(regrRbf.score(X_test, y_test)))"
   ]
  },
  {
   "cell_type": "markdown",
   "metadata": {},
   "source": [
    "## Autumn"
   ]
  },
  {
   "cell_type": "code",
   "execution_count": 26,
   "metadata": {},
   "outputs": [
    {
     "name": "stdout",
     "output_type": "stream",
     "text": [
      "\n",
      "Training set score: 0.627\n",
      "Test set score: 0.539\n"
     ]
    }
   ],
   "source": [
    "X_autumn = autumn_weather_history.drop('temperaturemin', axis=1)\n",
    "X_autumn = X_autumn.drop('date', axis=1)\n",
    "X_autumn = X_autumn.drop('season', axis=1)\n",
    "X_autumn.shape\n",
    "\n",
    "y_autumn = (autumn_weather_history['temperaturemin'])\n",
    "y_autumn.shape\n",
    "\n",
    "# Separando o dataset em treino e teste. 30% para teste, e 70% para treinamento.\n",
    "X_train, X_test, y_train, y_test = train_test_split(X_autumn, y_autumn, test_size = 0.3, random_state=42)\n",
    "\n",
    "regrRbf = SVR(kernel='rbf', gamma=0.001, C=2.0)\n",
    "regrRbf.fit(X_train, y_train) \n",
    "\n",
    "print(\"\\nTraining set score: {:.3f}\".format(regrRbf.score(X_train, y_train)))\n",
    "print(\"Test set score: {:.3f}\".format(regrRbf.score(X_test, y_test)))"
   ]
  },
  {
   "cell_type": "markdown",
   "metadata": {},
   "source": [
    "## 6. Referências  <a name=\"references\"></a>  \n",
    "\n",
    "> [Coeficiente de correlação de Pearson](https://pt.wikipedia.org/wiki/Coeficiente_de_correla%C3%A7%C3%A3o_de_Pearson#Refer%C3%AAncias)\n",
    "\n",
    "> [Kernel Trick](http://crsouza.com/2010/02/02/the-kernel-trick/)\n",
    "\n",
    "> [Parâmetros do SVR](http://scikit-learn.org/stable/auto_examples/svm/plot_rbf_parameters.html)"
   ]
  },
  {
   "cell_type": "code",
   "execution_count": null,
   "metadata": {},
   "outputs": [],
   "source": []
  }
 ],
 "metadata": {
  "kernelspec": {
   "display_name": "Python 2",
   "language": "python",
   "name": "python2"
  },
  "language_info": {
   "codemirror_mode": {
    "name": "ipython",
    "version": 2
   },
   "file_extension": ".py",
   "mimetype": "text/x-python",
   "name": "python",
   "nbconvert_exporter": "python",
   "pygments_lexer": "ipython2",
   "version": "2.7.14"
  }
 },
 "nbformat": 4,
 "nbformat_minor": 2
}
