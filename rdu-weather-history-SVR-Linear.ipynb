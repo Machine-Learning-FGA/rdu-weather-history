{
 "cells": [
  {
   "cell_type": "markdown",
   "metadata": {},
   "source": [
    "# Índice\n",
    "1. [Introdução](#introduction)\n",
    "2. [Lendo os dados](#reading)   \n",
    "3. [Visão Geral](#visao)    \n",
    " 3.1. [Mapas de Calor](#seaborn)\n",
    "4. [Pré Processamento](#processing)   \n",
    " 4.1. [Agrupamento dos dados para teste](#grouping)   \n",
    " 4.1.1. [Criando nova coluna \"Season\"](#column-season)   \n",
    " 4.2. [Criando DataFrames separados para cada estação](#dataframe-season)   \n",
    "5. [SVR (Support Vector Regression)](#svr)\n",
    "6. [Referências](#references)"
   ]
  },
  {
   "cell_type": "markdown",
   "metadata": {},
   "source": [
    "## 1. Introdução <a name=\"introduction\"></a>\n",
    "<p>Este <i>dataset</i> contém dados meteorológicos do Aeroporto Internacional de Raleigh Durham retirados do serviço da Web do NOAA.</p>"
   ]
  },
  {
   "cell_type": "markdown",
   "metadata": {},
   "source": [
    "## 2. Lendo os Dados <a name=\"reading\"></a>"
   ]
  },
  {
   "cell_type": "code",
   "execution_count": null,
   "metadata": {},
   "outputs": [],
   "source": [
    "import pandas as pd\n",
    "\n",
    "# As colunas estão separadas pelo símbolo ';' #. \n",
    "weather_history = pd.read_csv('rdu-weather-history.csv', parse_dates=['date'], sep=';')"
   ]
  },
  {
   "cell_type": "markdown",
   "metadata": {},
   "source": [
    "## 3. Visão geral <a name=\"visao\"></a>\n",
    "<p>O <i>dataset</i> contém informação sobre dados meteorológicos do Aeroporto Internacional de Raleigh Durham, desde 2007. Possui dados como temperaturas mínimas e máximas, volume de chuva, velocidade do vento e etc.</p>   \n",
    "</p>Visualizando as primeiras cinco entradas do DataFrame:</p>    "
   ]
  },
  {
   "cell_type": "code",
   "execution_count": null,
   "metadata": {},
   "outputs": [],
   "source": [
    "weather_history.head()"
   ]
  },
  {
   "cell_type": "code",
   "execution_count": null,
   "metadata": {},
   "outputs": [],
   "source": [
    "# Número de entradas\n",
    "print(\"Número de linhas do dataset:\", weather_history.shape[0])\n",
    "\n",
    "print(\"\\n\\nResumo estatístico do DataFrame:\")\n",
    "weather_history.describe()"
   ]
  },
  {
   "cell_type": "code",
   "execution_count": null,
   "metadata": {},
   "outputs": [],
   "source": [
    "weather_history.info()"
   ]
  },
  {
   "cell_type": "markdown",
   "metadata": {},
   "source": [
    "## 3.1 Utilizando a função Seaborn de mapas de calor <a name=\"seaborn\"></a>\n",
    "<p>Seaborn é uma biblioteca em python para criação de visualizações estatísticas.</p>\n",
    "<p>O método ```.corr() ```, calcula o <b>coeficiente de correlação de Pearson</b> entre todos os pares de colunas numéricas do DataFrame.</p>\n",
    "<p>Interpretando o coeficiente:\n",
    "- 0.9 para mais ou para menos indica uma correlação muito forte.\n",
    "- 0.7 a 0.9 positivo ou negativo indica uma correlação forte.\n",
    "- 0.5 a 0.7 positivo ou negativo indica uma correlação moderada.\n",
    "- 0.3 a 0.5 positivo ou negativo indica uma correlação fraca.\n",
    "- 0 a 0.3 positivo ou negativo indica uma correlação desprezível."
   ]
  },
  {
   "cell_type": "code",
   "execution_count": null,
   "metadata": {},
   "outputs": [],
   "source": [
    "import seaborn as sns; sns.set()\n",
    "import matplotlib.pyplot as plt\n",
    "\n",
    "plt.figure(figsize=(18,10))\n",
    "weather_map = sns.heatmap(weather_history.corr(), annot=True, square=True, cmap=\"YlGnBu\", linewidths=.3)\n"
   ]
  },
  {
   "cell_type": "markdown",
   "metadata": {},
   "source": [
    "## 4. Pré-processamento dos dados <a name=\"processing\"></a>"
   ]
  },
  {
   "cell_type": "code",
   "execution_count": null,
   "metadata": {},
   "outputs": [],
   "source": [
    "# Substituindo as string por números binários -- No = 0.0 e Yes = 1.0\n",
    "\n",
    "weather_history = weather_history.replace('No', 0.0)\n",
    "weather_history = weather_history.replace('Yes', 1.0)"
   ]
  },
  {
   "cell_type": "code",
   "execution_count": null,
   "metadata": {},
   "outputs": [],
   "source": [
    "# Verificando a soma dos valores nulos em cada feature\n",
    "\n",
    "weather_history.isnull().sum()"
   ]
  },
  {
   "cell_type": "code",
   "execution_count": null,
   "metadata": {},
   "outputs": [],
   "source": [
    "from sklearn.preprocessing import Imputer\n",
    "import numpy as np\n",
    "\n",
    "#Substituindo os valores nulos pela média dos valores referentes a feature\n",
    "imputer = Imputer(missing_values=np.nan, strategy='median', axis=0)\n",
    "weather_history[['temperaturemin']] = imputer.fit_transform(weather_history[['temperaturemin']])\n",
    "weather_history[['temperaturemax']] = imputer.fit_transform(weather_history[['temperaturemax']])\n",
    "weather_history[['precipitation']] = imputer.fit_transform(weather_history[['precipitation']])\n",
    "weather_history[['snowfall']] = imputer.fit_transform(weather_history[['snowfall']])\n",
    "weather_history[['snowdepth']] = imputer.fit_transform(weather_history[['snowdepth']])\n",
    "weather_history[['avgwindspeed']] = imputer.fit_transform(weather_history[['avgwindspeed']])\n",
    "weather_history[['fastest2minwinddir']] = imputer.fit_transform(weather_history[['fastest2minwinddir']])\n",
    "weather_history[['fastest2minwindspeed']] = imputer.fit_transform(weather_history[['fastest2minwindspeed']])\n",
    "weather_history[['fastest5secwinddir']] = imputer.fit_transform(weather_history[['fastest5secwinddir']])\n",
    "weather_history[['fastest5secwindspeed']] = imputer.fit_transform(weather_history[['fastest5secwindspeed']])\n",
    "\n",
    "weather_history.isnull().sum()"
   ]
  },
  {
   "cell_type": "markdown",
   "metadata": {},
   "source": [
    "## 4.1. Agrupamento dos dados para teste    <a name=\"grouping\"></a>\n",
    "\n",
    "Como o clima de uma região possui uma grande relação com as estações do ano, os dados para teste foram agrupados de acordo com a estação que occorre em uma data específica.\n",
    "\n",
    "- Primavera: 20 de março a 20 de junho \n",
    "- Verão: 21 de junho a 21 de setembro\n",
    "- Outono: 22 de setembro a 20 de dezembro\n",
    "- Inverno: 21 de dezembro a 19 de março"
   ]
  },
  {
   "cell_type": "markdown",
   "metadata": {},
   "source": [
    "### 4.1.1. Criando nova coluna \"Season\"    <a name=\"column-season\"></a>\n",
    "\n",
    "A coluna \"season\" foi criada com base nos periodos de inicio e de fim das estações do ano no local em que os dados foram colhidos."
   ]
  },
  {
   "cell_type": "markdown",
   "metadata": {},
   "source": [
    "Antes de utilizar o algoritimo para definir as estações a partir das datas é feita uma pequena alteração no formato da data.  \n",
    "Antes: AAAA-MM-DD  \n",
    "Depois: AAAAMMDD"
   ]
  },
  {
   "cell_type": "code",
   "execution_count": null,
   "metadata": {},
   "outputs": [],
   "source": [
    "season_array = []\n",
    "\n",
    "for date in weather_history['date']:\n",
    "    if int(date.strftime('%m%d')) >= 1221 or int(date.strftime('%m%d')) <= 319:\n",
    "        season = 0 #'winter'\n",
    "    elif int(date.strftime('%m%d')) >= 320 and int(date.strftime('%m%d')) <= 620:\n",
    "        season = 1 #'spring'\n",
    "    elif int(date.strftime('%m%d')) >= 621 and int(date.strftime('%m%d')) <= 921:\n",
    "        season = 2 #'summer'\n",
    "    elif int(date.strftime('%m%d')) >= 922 and int(date.strftime('%m%d')) <= 1220:\n",
    "        season = 3 #'autumn'    \n",
    "    \n",
    "    season_array.append(season)\n",
    "\n",
    "weather_history['season'] = season_array"
   ]
  },
  {
   "cell_type": "code",
   "execution_count": null,
   "metadata": {},
   "outputs": [],
   "source": [
    "#Ordenando o dataset pela coluna data\n",
    "\n",
    "weather_history = weather_history.sort_values('date', ascending=True)\n",
    "weather_history.head()"
   ]
  },
  {
   "cell_type": "markdown",
   "metadata": {},
   "source": [
    "## 4.2. Criando DataFrames separados para cada estação. <a name=\"dataframe-season\"></a>"
   ]
  },
  {
   "cell_type": "code",
   "execution_count": null,
   "metadata": {},
   "outputs": [],
   "source": [
    "winter_weather_history = weather_history[weather_history['season'] == 0]\n",
    "spring_weather_history = weather_history[weather_history['season'] == 1]\n",
    "summer_weather_history = weather_history[weather_history['season'] == 2]\n",
    "autumn_weather_history = weather_history[weather_history['season'] == 3]"
   ]
  },
  {
   "cell_type": "code",
   "execution_count": null,
   "metadata": {},
   "outputs": [],
   "source": [
    "len_winter = len(winter_weather_history['date'])\n",
    "len_summer = len(summer_weather_history['date'])\n",
    "len_spring = len(spring_weather_history['date'])\n",
    "len_autumn = len(autumn_weather_history['date'])\n",
    "\n",
    "X = ['winter', 'summer', 'spring', 'autumn']\n",
    "Y = [len_winter, len_summer, len_spring, len_autumn]\n",
    "\n",
    "plt.bar(X, Y)\n",
    "plt.xlabel('Seasons')\n",
    "plt.ylabel('Amount of data for each season')\n",
    "plt.title('Season per amount')\n",
    "plt.show()"
   ]
  },
  {
   "cell_type": "code",
   "execution_count": null,
   "metadata": {},
   "outputs": [],
   "source": [
    "# Exemplo para mostrar que a correlação com a divisão do dataframe em estações aumentou. Nesse exemplo\n",
    "# tem os dados do verão de 2007\n",
    "\n",
    "plt.figure(figsize=(10,8))\n",
    "\n",
    "summer_weather_history = summer_weather_history[summer_weather_history['date'] <= '2007-12-31']                                        \n",
    "summer_weather_history = summer_weather_history.drop(columns=['snowfall', 'snowdepth', 'ice', 'glaze', 'freezingrain', 'highwind', 'hail', 'blowingsnow', 'dust', 'freezingfog', 'season', 'snow'])\n",
    "sns.heatmap(summer_weather_history.corr(), square=True, cmap=\"YlGnBu\", linewidths=.2)"
   ]
  },
  {
   "cell_type": "markdown",
   "metadata": {},
   "source": [
    "## 5. SVR (Support Vector Regression)  <a name=\"svr\"></a>  "
   ]
  },
  {
   "cell_type": "code",
   "execution_count": null,
   "metadata": {},
   "outputs": [],
   "source": [
    "import matplotlib.pyplot as plt\n",
    "import sys  \n",
    "\n",
    "reload(sys)  \n",
    "sys.setdefaultencoding('utf8')\n",
    "\n",
    "X = weather_history.drop('temperaturemin', axis=1).values\n",
    "y = weather_history['temperaturemin'].values\n",
    "\n",
    "weather_history_no_min = weather_history.drop('temperaturemin', axis=1)\n",
    "\n",
    "X_new = weather_history_no_min\n",
    "for i in enumerate(weather_history_no_min.columns):\n",
    "    related_value = weather_history_no_min[i[1]].values\n",
    "    if not np.array_equal(np.unique(related_value), [0, 1.]):\n",
    "        print(i)\n",
    "        plt.scatter(related_value, y)\n",
    "        plt.ylabel(str('Temperatura mínima'))\n",
    "        plt.xlabel(str(i[1]))\n",
    "        plt.show()\n",
    "    else:\n",
    "        X_new = X_new.drop(i[1], axis=1)"
   ]
  },
  {
   "cell_type": "code",
   "execution_count": null,
   "metadata": {},
   "outputs": [],
   "source": [
    "from sklearn.svm import SVR\n",
    "from sklearn.model_selection import train_test_split\n",
    "\n",
    "X_new_new = X_new.drop('date', axis=1)\n",
    "X_new_new = X_new_new.values\n",
    "regr = SVR(kernel='linear')\n",
    "y = y.reshape(-1, 1)\n",
    "X_train, X_test, y_train, y_test = train_test_split(X_new_new, y, test_size=0.25, random_state=42)\n",
    "regr.fit(X_train, y_train)"
   ]
  },
  {
   "cell_type": "code",
   "execution_count": null,
   "metadata": {},
   "outputs": [],
   "source": [
    "regr.score(X_train, y_train)"
   ]
  },
  {
   "cell_type": "code",
   "execution_count": null,
   "metadata": {},
   "outputs": [],
   "source": [
    "predict = regr.predict(X_test)\n",
    "coeficient = regr.coef_\n",
    "figure, axes = plt.subplots(figsize=(9, 9))\n",
    "ax = sns.regplot(x = y_test, y = predict, scatter_kws={\"color\": \"orange\"}, line_kws={\"color\": \"blue\"})\n",
    "ax = ax.set(xlabel='Actual Temperaturemin: Test Set', ylabel = 'Predicted Temperaturemin: Test Set')"
   ]
  },
  {
   "cell_type": "markdown",
   "metadata": {},
   "source": [
    "## 6. Referências  <a name=\"references\"></a>  \n",
    "\n",
    "> [Coeficiente de correlação de Pearson](https://pt.wikipedia.org/wiki/Coeficiente_de_correla%C3%A7%C3%A3o_de_Pearson#Refer%C3%AAncias)"
   ]
  },
  {
   "cell_type": "code",
   "execution_count": null,
   "metadata": {},
   "outputs": [],
   "source": []
  }
 ],
 "metadata": {
  "kernelspec": {
   "display_name": "Python 2",
   "language": "python",
   "name": "python2"
  },
  "language_info": {
   "codemirror_mode": {
    "name": "ipython",
    "version": 2
   },
   "file_extension": ".py",
   "mimetype": "text/x-python",
   "name": "python",
   "nbconvert_exporter": "python",
   "pygments_lexer": "ipython2",
   "version": "2.7.14"
  }
 },
 "nbformat": 4,
 "nbformat_minor": 2
}
